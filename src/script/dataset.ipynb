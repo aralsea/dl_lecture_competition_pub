{
 "cells": [
  {
   "cell_type": "code",
   "execution_count": 4,
   "metadata": {},
   "outputs": [],
   "source": [
    "import sys\n",
    "\n",
    "sys.path.append(\"../\")\n",
    "\n",
    "import os\n",
    "\n",
    "import hydra\n",
    "import numpy as np\n",
    "import torch\n",
    "import torch.nn.functional as F\n",
    "import wandb\n",
    "from hydra.core.hydra_config import HydraConfig\n",
    "from omegaconf import DictConfig\n",
    "from termcolor import cprint\n",
    "from torch.utils.data import DataLoader\n",
    "from torchmetrics import Accuracy\n",
    "from tqdm import tqdm\n",
    "\n",
    "from lib.datasets import ThingsMEGDataset\n",
    "from lib.models import BasicConvClassifier\n",
    "from lib.utils import set_seed\n",
    "\n",
    "data_dir = \"../../data\"\n",
    "batch_size = 32\n",
    "num_workers = 1\n",
    "loader_args = {\"batch_size\": batch_size, \"num_workers\": num_workers}\n"
   ]
  },
  {
   "cell_type": "code",
   "execution_count": 5,
   "metadata": {},
   "outputs": [],
   "source": [
    "from lib.datasets import ThingsMEGDatasetWithImages\n",
    "train_set_with_images = ThingsMEGDatasetWithImages(\"train\", data_dir)\n",
    "train_loader_with_images = DataLoader(train_set_with_images, shuffle=False, **loader_args)"
   ]
  },
  {
   "cell_type": "code",
   "execution_count": 6,
   "metadata": {},
   "outputs": [
    {
     "name": "stdout",
     "output_type": "stream",
     "text": [
      "torch.Size([32, 3, 224, 224])\n",
      "torch.Size([32, 271, 281])\n",
      "torch.Size([32])\n",
      "torch.Size([32])\n"
     ]
    }
   ],
   "source": [
    "for image_X, brain_X, y, subject_idx in train_loader_with_images:\n",
    "    print(image_X.shape)\n",
    "    print(brain_X.shape)\n",
    "    print(y.shape)\n",
    "    print(subject_idx.shape)\n",
    "    break\n",
    "\n",
    "    "
   ]
  },
  {
   "cell_type": "code",
   "execution_count": null,
   "metadata": {},
   "outputs": [],
   "source": [
    "print()"
   ]
  },
  {
   "cell_type": "code",
   "execution_count": null,
   "metadata": {},
   "outputs": [],
   "source": []
  }
 ],
 "metadata": {
  "kernelspec": {
   "display_name": ".venv",
   "language": "python",
   "name": "python3"
  },
  "language_info": {
   "codemirror_mode": {
    "name": "ipython",
    "version": 3
   },
   "file_extension": ".py",
   "mimetype": "text/x-python",
   "name": "python",
   "nbconvert_exporter": "python",
   "pygments_lexer": "ipython3",
   "version": "3.12.3"
  }
 },
 "nbformat": 4,
 "nbformat_minor": 2
}
